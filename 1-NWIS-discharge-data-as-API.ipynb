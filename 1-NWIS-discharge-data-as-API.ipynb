{
 "cells": [
  {
   "cell_type": "markdown",
   "metadata": {},
   "source": [
    "# Accessing the NWIS Discharge data  - as an API\n",
    "In the last session, we used `urllib` and `pandas` to retrieve data from a static URL. Here we refine that procedure to again retrieve water flow data from the NWIS website. What's different this time, however, is that we examine the URL as a web service, dissecting it into its components (web service address and web service parameters). We also switch to using the Python `requests` package to handle the interaction, as it's slightly more user friendly than the `urllib` package. "
   ]
  },
  {
   "cell_type": "markdown",
   "metadata": {},
   "source": [
    "The URL listing current discharge conditions in the Eno near Durham gage site is here: \n",
    "```html\n",
    "http://waterdata.usgs.gov/nwis/uv?cb_00060=on&cb_00065=on&format=rdb&site_no=02085070&period=1&begin_date=&end_date=\n",
    "```"
   ]
  },
  {
   "cell_type": "markdown",
   "metadata": {},
   "source": [
    "As you'll see in the example below, the `requests` package constructs a web service request with two parameters. The first is the full service address (`http://waterdata.usgs.gov/nwis/uv`), which is followed by the set of service parameters, passed as a Python dictionary."
   ]
  },
  {
   "cell_type": "code",
   "execution_count": 1,
   "metadata": {},
   "outputs": [],
   "source": [
    "#import packages\n",
    "import requests"
   ]
  },
  {
   "cell_type": "code",
   "execution_count": 9,
   "metadata": {},
   "outputs": [],
   "source": [
    "#dissect the URL into it's components, for easy comprehension -- and easy modification\n",
    "serviceURL = 'http://waterdata.usgs.gov/nwis/uv'\n",
    "parameters = {'cb_00060':'on',\n",
    "              'cb_00065':'on',\n",
    "              'format':'rdb',\n",
    "              'period':'1',\n",
    "              'site_no':'02085070',\n",
    "              'begin_date':'',\n",
    "              'end_date':''\n",
    "             }"
   ]
  },
  {
   "cell_type": "markdown",
   "metadata": {},
   "source": [
    "Ok, here we send the request, storing the response in a variable called `response`. The second line extacts the response as raw text into the variable `responseText`."
   ]
  },
  {
   "cell_type": "code",
   "execution_count": 10,
   "metadata": {},
   "outputs": [],
   "source": [
    "#Pass the url and its parameters to the server and get its response\n",
    "response = requests.get(serviceURL, parameters)\n",
    "responseText = response.text"
   ]
  },
  {
   "cell_type": "code",
   "execution_count": 11,
   "metadata": {
    "scrolled": true
   },
   "outputs": [
    {
     "name": "stdout",
     "output_type": "stream",
     "text": [
      "# ---------------------------------- WARNING ----------------------------------------\n",
      "# Some of the data that you have obtained from this U.S. Geological Survey database\n",
      "# may not have received Director's approval. Any such data values are qualified\n",
      "# as provisional and are subject to revision. Provisional data are released on the\n",
      "# condition that neither the USGS nor the United States Government may be held liable\n",
      "# for any damages resulting from its use.\n",
      "#\n",
      "# Additional info: https://help.waterdata.usgs.gov/policies/provisional-data-statement\n",
      "#\n",
      "# File-format description:  https://help.waterdata.usgs.gov/faq/about-tab-delimited-output\n",
      "# Automated-retrieval info: https://help.waterdata.usgs.gov/faq/automated-retrievals\n",
      "#\n",
      "# Contact:   gs-w_support_nwisweb@usgs.gov\n",
      "# retrieved: 2018-11-06 11:08:46 EST       (caww02)\n",
      "#\n",
      "# Data for the following 1 site(s) are contained in this file\n",
      "#    USGS 02085070 ENO RIVER NEAR DURHAM, NC\n",
      "# -----------------------------------------------------------------------------------\n",
      "#\n",
      "# Data provided for site 02085070\n",
      "#            TS   parameter     Description\n",
      "#         89062       00060     Discharge, cubic feet per second\n",
      "#         89063       00065     Gage height, feet\n",
      "#\n",
      "# Data-value qualification codes included in this output:\n",
      "#     P  Provisional data subject to revision.\n",
      "# \n",
      "agency_cd\tsite_no\tdatetime\ttz_cd\t89062_00060\t89062_00060_cd\t89063_00065\t89063_00065_cd\n",
      "5s\t15s\t20d\t6s\t14n\t10s\t14n\t10s\n",
      "USGS\t02085070\t2018-11-05 00:00\tEST\t59.5\tP\t1.87\tP\n",
      "USGS\t02085070\t2018-11-05 00:15\tEST\t59.5\tP\t1.87\tP\n",
      "USGS\t02085070\t2018-11-05 00:30\tEST\t60.8\tP\t1.88\tP\n",
      "USGS\t02085070\t2018-11-05 00:45\tEST\t60.8\tP\t1.88\tP\n",
      "USGS\t02085070\t2018-11-05 01:00\tEST\t60.8\tP\t1.88\tP\n",
      "USGS\t02085070\t2018-11-05 01:15\tEST\t63.3\tP\t1.90\tP\n",
      "USGS\t02085070\t2018-11-05 01:30\tEST\t60.8\tP\t1.88\tP\n",
      "USGS\t02085070\t2018-11-05 01:45\tEST\t60.8\tP\t1.88\tP\n",
      "USGS\t02085070\t2018-11-05 02:00\tEST\t62.0\tP\t1.89\tP\n",
      "USGS\t02085070\t2018-11-05 02:15\tEST\t63.3\tP\t1.90\tP\n",
      "USGS\t02085070\t2018-11-05 02:30\tEST\t63.3\tP\t1.90\tP\n",
      "USGS\t02085070\t2018-11-05 02:45\tEST\t70.1\tP\t1.95\tP\n",
      "USGS\t02085070\t2018-11-05 03:00\tEST\t68.7\tP\t1.94\tP\n",
      "USGS\t02085070\t2018-11-05 03:15\tEST\t70.1\tP\t1.95\tP\n",
      "USGS\t02085070\t2018-11-05 03:30\tEST\t77.5\tP\t2.00\tP\n",
      "USGS\t02085070\t2018-11-05 03:45\tEST\t82.2\tP\t2.03\tP\n",
      "USGS\t02085070\t2018-11-05 04:00\tEST\t94.2\tP\t2.10\tP\n",
      "USGS\t02085070\t2018-11-05 04:15\tEST\t103\tP\t2.15\tP\n",
      "USGS\t02085070\t2018-11-05 04:30\tEST\t116\tP\t2.24\tP\n",
      "USGS\t02085070\t2018-11-05 04:45\tEST\t141\tP\t2.38\tP\n",
      "USGS\t02085070\t2018-11-05 05:00\tEST\t182\tP\t2.58\tP\n",
      "USGS\t02085070\t2018-11-05 05:15\tEST\t269\tP\t2.90\tP\n",
      "USGS\t02085070\t2018-11-05 05:30\tEST\t375\tP\t3.20\tP\n",
      "USGS\t02085070\t2018-11-05 05:45\tEST\t501\tP\t3.54\tP\n",
      "USGS\t02085070\t2018-11-05 06:00\tEST\t613\tP\t3.84\tP\n",
      "USGS\t02085070\t2018-11-05 06:15\tEST\t711\tP\t4.08\tP\n",
      "USGS\t02085070\t2018-11-05 06:30\tEST\t800\tP\t4.30\tP\n",
      "USGS\t02085070\t2018-11-05 06:45\tEST\t878\tP\t4.51\tP\n",
      "USGS\t02085070\t2018-11-05 07:00\tEST\t947\tP\t4.68\tP\n",
      "USGS\t02085070\t2018-11-05 07:15\tEST\t980\tP\t4.76\tP\n",
      "USGS\t02085070\t2018-11-05 07:30\tEST\t984\tP\t4.77\tP\n",
      "USGS\t02085070\t2018-11-05 07:45\tEST\t997\tP\t4.80\tP\n",
      "USGS\t02085070\t2018-11-05 08:00\tEST\t968\tP\t4.73\tP\n",
      "USGS\t02085070\t2018-11-05 08:15\tEST\t935\tP\t4.65\tP\n",
      "USGS\t02085070\t2018-11-05 08:30\tEST\t890\tP\t4.54\tP\n",
      "USGS\t02085070\t2018-11-05 08:45\tEST\t852\tP\t4.44\tP\n",
      "USGS\t02085070\t2018-11-05 09:00\tEST\t822\tP\t4.36\tP\n",
      "USGS\t02085070\t2018-11-05 09:15\tEST\t804\tP\t4.31\tP\n",
      "USGS\t02085070\t2018-11-05 09:30\tEST\t818\tP\t4.35\tP\n",
      "USGS\t02085070\t2018-11-05 09:45\tEST\t947\tP\t4.68\tP\n",
      "USGS\t02085070\t2018-11-05 10:00\tEST\t1220\tP\t5.29\tP\n",
      "USGS\t02085070\t2018-11-05 10:15\tEST\t1480\tP\t5.80\tP\n",
      "USGS\t02085070\t2018-11-05 10:30\tEST\t1670\tP\t6.16\tP\n",
      "USGS\t02085070\t2018-11-05 10:45\tEST\t1760\tP\t6.35\tP\n",
      "USGS\t02085070\t2018-11-05 11:00\tEST\t1830\tP\t6.49\tP\n",
      "USGS\t02085070\t2018-11-05 11:15\tEST\t1860\tP\t6.55\tP\n",
      "USGS\t02085070\t2018-11-05 11:30\tEST\t1850\tP\t6.53\tP\n",
      "USGS\t02085070\t2018-11-05 11:45\tEST\t1890\tP\t6.61\tP\n",
      "USGS\t02085070\t2018-11-05 12:00\tEST\t1810\tP\t6.44\tP\n",
      "USGS\t02085070\t2018-11-05 12:15\tEST\t1780\tP\t6.39\tP\n",
      "USGS\t02085070\t2018-11-05 12:30\tEST\t1760\tP\t6.34\tP\n",
      "USGS\t02085070\t2018-11-05 12:45\tEST\t1700\tP\t6.23\tP\n",
      "USGS\t02085070\t2018-11-05 13:00\tEST\t1690\tP\t6.21\tP\n",
      "USGS\t02085070\t2018-11-05 13:15\tEST\t1680\tP\t6.17\tP\n",
      "USGS\t02085070\t2018-11-05 13:30\tEST\t1660\tP\t6.13\tP\n",
      "USGS\t02085070\t2018-11-05 13:45\tEST\t1650\tP\t6.12\tP\n",
      "USGS\t02085070\t2018-11-05 14:00\tEST\t1680\tP\t6.18\tP\n",
      "USGS\t02085070\t2018-11-05 14:15\tEST\t1660\tP\t6.14\tP\n",
      "USGS\t02085070\t2018-11-05 14:30\tEST\t1680\tP\t6.18\tP\n",
      "USGS\t02085070\t2018-11-05 14:45\tEST\t1680\tP\t6.17\tP\n",
      "USGS\t02085070\t2018-11-05 15:00\tEST\t1710\tP\t6.24\tP\n",
      "USGS\t02085070\t2018-11-05 15:15\tEST\t1690\tP\t6.19\tP\n",
      "USGS\t02085070\t2018-11-05 15:30\tEST\t1680\tP\t6.17\tP\n",
      "USGS\t02085070\t2018-11-05 15:45\tEST\t1710\tP\t6.24\tP\n",
      "USGS\t02085070\t2018-11-05 16:00\tEST\t1680\tP\t6.17\tP\n",
      "USGS\t02085070\t2018-11-05 16:15\tEST\t1640\tP\t6.08\tP\n",
      "USGS\t02085070\t2018-11-05 16:30\tEST\t1610\tP\t6.04\tP\n",
      "USGS\t02085070\t2018-11-05 16:45\tEST\t1590\tP\t5.99\tP\n",
      "USGS\t02085070\t2018-11-05 17:00\tEST\t1540\tP\t5.90\tP\n",
      "USGS\t02085070\t2018-11-05 17:15\tEST\t1490\tP\t5.81\tP\n",
      "USGS\t02085070\t2018-11-05 17:30\tEST\t1450\tP\t5.74\tP\n",
      "USGS\t02085070\t2018-11-05 17:45\tEST\t1400\tP\t5.65\tP\n",
      "USGS\t02085070\t2018-11-05 18:00\tEST\t1390\tP\t5.62\tP\n",
      "USGS\t02085070\t2018-11-05 18:15\tEST\t1350\tP\t5.55\tP\n",
      "USGS\t02085070\t2018-11-05 18:30\tEST\t1300\tP\t5.45\tP\n",
      "USGS\t02085070\t2018-11-05 18:45\tEST\t1260\tP\t5.37\tP\n",
      "USGS\t02085070\t2018-11-05 19:00\tEST\t1240\tP\t5.34\tP\n",
      "USGS\t02085070\t2018-11-05 19:15\tEST\t1210\tP\t5.27\tP\n",
      "USGS\t02085070\t2018-11-05 19:30\tEST\t1150\tP\t5.14\tP\n",
      "USGS\t02085070\t2018-11-05 19:45\tEST\t1130\tP\t5.10\tP\n",
      "USGS\t02085070\t2018-11-05 20:00\tEST\t1090\tP\t5.01\tP\n",
      "USGS\t02085070\t2018-11-05 20:15\tEST\t1050\tP\t4.93\tP\n",
      "USGS\t02085070\t2018-11-05 20:30\tEST\t1040\tP\t4.91\tP\n",
      "USGS\t02085070\t2018-11-05 20:45\tEST\t1010\tP\t4.83\tP\n",
      "USGS\t02085070\t2018-11-05 21:00\tEST\t993\tP\t4.79\tP\n",
      "USGS\t02085070\t2018-11-05 21:15\tEST\t959\tP\t4.71\tP\n",
      "USGS\t02085070\t2018-11-05 21:30\tEST\t955\tP\t4.70\tP\n",
      "USGS\t02085070\t2018-11-05 21:45\tEST\t922\tP\t4.62\tP\n",
      "USGS\t02085070\t2018-11-05 22:00\tEST\t922\tP\t4.62\tP\n",
      "USGS\t02085070\t2018-11-05 22:15\tEST\t898\tP\t4.56\tP\n",
      "USGS\t02085070\t2018-11-05 22:30\tEST\t882\tP\t4.52\tP\n",
      "USGS\t02085070\t2018-11-05 22:45\tEST\t871\tP\t4.49\tP\n",
      "USGS\t02085070\t2018-11-05 23:00\tEST\t859\tP\t4.46\tP\n",
      "USGS\t02085070\t2018-11-05 23:15\tEST\t852\tP\t4.44\tP\n",
      "USGS\t02085070\t2018-11-05 23:30\tEST\t833\tP\t4.39\tP\n",
      "USGS\t02085070\t2018-11-05 23:45\tEST\t822\tP\t4.36\tP\n",
      "USGS\t02085070\t2018-11-06 00:00\tEST\t808\tP\t4.32\tP\n",
      "USGS\t02085070\t2018-11-06 00:15\tEST\t804\tP\t4.31\tP\n",
      "USGS\t02085070\t2018-11-06 00:30\tEST\t790\tP\t4.27\tP\n",
      "USGS\t02085070\t2018-11-06 00:45\tEST\t779\tP\t4.24\tP\n",
      "USGS\t02085070\t2018-11-06 01:00\tEST\t772\tP\t4.22\tP\n",
      "USGS\t02085070\t2018-11-06 01:15\tEST\t768\tP\t4.21\tP\n",
      "USGS\t02085070\t2018-11-06 01:30\tEST\t755\tP\t4.18\tP\n",
      "USGS\t02085070\t2018-11-06 01:45\tEST\t750\tP\t4.17\tP\n",
      "USGS\t02085070\t2018-11-06 02:00\tEST\t732\tP\t4.13\tP\n",
      "USGS\t02085070\t2018-11-06 02:15\tEST\t728\tP\t4.12\tP\n",
      "USGS\t02085070\t2018-11-06 02:30\tEST\t719\tP\t4.10\tP\n",
      "USGS\t02085070\t2018-11-06 02:45\tEST\t711\tP\t4.08\tP\n",
      "USGS\t02085070\t2018-11-06 03:00\tEST\t702\tP\t4.06\tP\n",
      "USGS\t02085070\t2018-11-06 03:15\tEST\t694\tP\t4.04\tP\n",
      "USGS\t02085070\t2018-11-06 03:30\tEST\t685\tP\t4.02\tP\n",
      "USGS\t02085070\t2018-11-06 03:45\tEST\t685\tP\t4.02\tP\n",
      "USGS\t02085070\t2018-11-06 04:00\tEST\t673\tP\t3.99\tP\n",
      "USGS\t02085070\t2018-11-06 04:15\tEST\t669\tP\t3.98\tP\n",
      "USGS\t02085070\t2018-11-06 04:30\tEST\t656\tP\t3.95\tP\n",
      "USGS\t02085070\t2018-11-06 04:45\tEST\t660\tP\t3.96\tP\n",
      "USGS\t02085070\t2018-11-06 05:00\tEST\t652\tP\t3.94\tP\n",
      "USGS\t02085070\t2018-11-06 05:15\tEST\t644\tP\t3.92\tP\n",
      "USGS\t02085070\t2018-11-06 05:30\tEST\t640\tP\t3.91\tP\n",
      "USGS\t02085070\t2018-11-06 05:45\tEST\t632\tP\t3.89\tP\n",
      "USGS\t02085070\t2018-11-06 06:00\tEST\t624\tP\t3.87\tP\n",
      "USGS\t02085070\t2018-11-06 06:15\tEST\t620\tP\t3.86\tP\n",
      "USGS\t02085070\t2018-11-06 06:30\tEST\t613\tP\t3.84\tP\n",
      "USGS\t02085070\t2018-11-06 06:45\tEST\t609\tP\t3.83\tP\n",
      "USGS\t02085070\t2018-11-06 07:00\tEST\t601\tP\t3.81\tP\n",
      "USGS\t02085070\t2018-11-06 07:15\tEST\t601\tP\t3.81\tP\n",
      "USGS\t02085070\t2018-11-06 07:30\tEST\t594\tP\t3.79\tP\n",
      "USGS\t02085070\t2018-11-06 07:45\tEST\t582\tP\t3.76\tP\n",
      "USGS\t02085070\t2018-11-06 08:00\tEST\t582\tP\t3.76\tP\n",
      "USGS\t02085070\t2018-11-06 08:15\tEST\t575\tP\t3.74\tP\n",
      "USGS\t02085070\t2018-11-06 08:30\tEST\t571\tP\t3.73\tP\n",
      "USGS\t02085070\t2018-11-06 08:45\tEST\t560\tP\t3.70\tP\n",
      "USGS\t02085070\t2018-11-06 09:00\tEST\t560\tP\t3.70\tP\n",
      "USGS\t02085070\t2018-11-06 09:15\tEST\t553\tP\t3.68\tP\n",
      "USGS\t02085070\t2018-11-06 09:30\tEST\t549\tP\t3.67\tP\n",
      "USGS\t02085070\t2018-11-06 09:45\tEST\t546\tP\t3.66\tP\n",
      "USGS\t02085070\t2018-11-06 10:00\tEST\t535\tP\t3.63\tP\n",
      "USGS\t02085070\t2018-11-06 10:15\tEST\t532\tP\t3.62\tP\n",
      "USGS\t02085070\t2018-11-06 10:30\tEST\t525\tP\t3.60\tP\n",
      "\n"
     ]
    }
   ],
   "source": [
    "#What did we get? \n",
    "print(responseText)"
   ]
  },
  {
   "cell_type": "markdown",
   "metadata": {},
   "source": [
    "If you scroll all the way to the last line in the file, you get the most recent reading. We can use some Python to print out what this reading is... "
   ]
  },
  {
   "cell_type": "code",
   "execution_count": 12,
   "metadata": {},
   "outputs": [
    {
     "name": "stdout",
     "output_type": "stream",
     "text": [
      "Site 02085070 recorded a discharge of 525 cfs on 2018-11-06 10:30\n"
     ]
    }
   ],
   "source": [
    "#Convert the response text into a list of lines and print the second to last line\n",
    "responseLines = responseText.split('\\n')\n",
    "lastRecord = responseLines[-2].split('\\t')\n",
    "site = lastRecord[1]\n",
    "cfs = lastRecord[4]\n",
    "date = lastRecord[2]\n",
    "print(\"Site {0} recorded a discharge of {1} cfs on {2}\".format(site,cfs,date))"
   ]
  },
  {
   "cell_type": "markdown",
   "metadata": {},
   "source": [
    "► **EXERCISE**: The 3 code blocks below are copies of the ones above. Modify these code blocks to get data for site 02085039 (Eno River At Cole Mill Rd Nr Huckleberry Spring), and print out its most recent *gage height* (in feet):"
   ]
  },
  {
   "cell_type": "code",
   "execution_count": 2,
   "metadata": {},
   "outputs": [],
   "source": [
    "#import packages\n",
    "import requests\n",
    "\n",
    "#dissect the URL into it's components, for easy comprehension -- and easy modification\n",
    "serviceURL2 = 'http://waterdata.usgs.gov/nwis/uv'\n",
    "parameters2 = {'cb_00060':'on',\n",
    "              'cb_00065':'on',\n",
    "              'format':'rdb',\n",
    "              'period':'1',\n",
    "              'site_no':'02085039',\n",
    "              'begin_date':'',\n",
    "              'end_date':''\n",
    "             }"
   ]
  },
  {
   "cell_type": "code",
   "execution_count": 3,
   "metadata": {},
   "outputs": [],
   "source": [
    "#Pass the url and its parameters to the server and get its response\n",
    "response2 = requests.get(serviceURL2, parameters2)\n",
    "responseText2 = response2.text"
   ]
  },
  {
   "cell_type": "code",
   "execution_count": 4,
   "metadata": {},
   "outputs": [
    {
     "name": "stdout",
     "output_type": "stream",
     "text": [
      "Site 02085039 recorded a gage height of 2.88 ft on 2018-11-09 08:00\n"
     ]
    }
   ],
   "source": [
    "#Convert the response text into a list of lines and print the second to last line\n",
    "responseLines2 = responseText2.split('\\n')\n",
    "lastRecord2 = responseLines2[-2].split('\\t')\n",
    "site2 = lastRecord2[1]\n",
    "cfs2 = lastRecord2[4]\n",
    "date2 = lastRecord2[2]\n",
    "print(\"Site {0} recorded a gage height of {1} ft on {2}\".format(site2,cfs2,date2))"
   ]
  },
  {
   "cell_type": "code",
   "execution_count": null,
   "metadata": {},
   "outputs": [],
   "source": []
  }
 ],
 "metadata": {
  "kernelspec": {
   "display_name": "Python 3",
   "language": "python",
   "name": "python3"
  },
  "language_info": {
   "codemirror_mode": {
    "name": "ipython",
    "version": 3
   },
   "file_extension": ".py",
   "mimetype": "text/x-python",
   "name": "python",
   "nbconvert_exporter": "python",
   "pygments_lexer": "ipython3",
   "version": "3.6.5"
  }
 },
 "nbformat": 4,
 "nbformat_minor": 2
}
